{
 "cells": [
  {
   "cell_type": "code",
   "execution_count": 4,
   "id": "f7669866",
   "metadata": {},
   "outputs": [],
   "source": [
    "list = [1,2,3,4,5]"
   ]
  },
  {
   "cell_type": "code",
   "execution_count": 1,
   "id": "0b27922b",
   "metadata": {},
   "outputs": [
    {
     "data": {
      "text/plain": [
       "140704019712752"
      ]
     },
     "execution_count": 1,
     "metadata": {},
     "output_type": "execute_result"
    }
   ],
   "source": [
    "id(list) #id = 주소값을 알려준다."
   ]
  },
  {
   "cell_type": "code",
   "execution_count": 5,
   "id": "d44a4ace",
   "metadata": {},
   "outputs": [],
   "source": [
    "#리스트에 값 추가\n",
    "list.append(6)"
   ]
  },
  {
   "cell_type": "code",
   "execution_count": 14,
   "id": "a3f10c33",
   "metadata": {},
   "outputs": [
    {
     "data": {
      "text/plain": [
       "1972470144064"
      ]
     },
     "execution_count": 14,
     "metadata": {},
     "output_type": "execute_result"
    }
   ],
   "source": [
    "id(list) #리스트에 값을 추가해도 주소값은 안바뀐다."
   ]
  },
  {
   "cell_type": "code",
   "execution_count": 17,
   "id": "85e58052",
   "metadata": {},
   "outputs": [],
   "source": [
    "#리스트에 새로운 값 할당\n",
    "list = [1,2,3,4,5,6,7]"
   ]
  },
  {
   "cell_type": "code",
   "execution_count": 18,
   "id": "7ce63ee6",
   "metadata": {},
   "outputs": [
    {
     "data": {
      "text/plain": [
       "1972470249856"
      ]
     },
     "execution_count": 18,
     "metadata": {},
     "output_type": "execute_result"
    }
   ],
   "source": [
    "id(list) # 새로운 값을 할당해야지 주소값이 바뀐다."
   ]
  },
  {
   "cell_type": "code",
   "execution_count": 21,
   "id": "a9ca77eb",
   "metadata": {},
   "outputs": [
    {
     "data": {
      "text/plain": [
       "1972470249856"
      ]
     },
     "execution_count": 21,
     "metadata": {},
     "output_type": "execute_result"
    }
   ],
   "source": [
    "list1= list\n",
    "id(list1)"
   ]
  },
  {
   "cell_type": "code",
   "execution_count": 28,
   "id": "0f51785d",
   "metadata": {},
   "outputs": [],
   "source": [
    "#다른 주소로 값만 가져오기\n",
    "#.copy() : 값만 가져오는 기능\n",
    "list2 = list1.copy()"
   ]
  },
  {
   "cell_type": "code",
   "execution_count": 29,
   "id": "92c4d0cc",
   "metadata": {},
   "outputs": [
    {
     "data": {
      "text/plain": [
       "1972470547968"
      ]
     },
     "execution_count": 29,
     "metadata": {},
     "output_type": "execute_result"
    }
   ],
   "source": [
    "id(list2)"
   ]
  },
  {
   "cell_type": "code",
   "execution_count": null,
   "id": "94b059c1",
   "metadata": {},
   "outputs": [],
   "source": []
  },
  {
   "cell_type": "code",
   "execution_count": 25,
   "id": "e8fa283d",
   "metadata": {},
   "outputs": [
    {
     "data": {
      "text/plain": [
       "int"
      ]
     },
     "execution_count": 25,
     "metadata": {},
     "output_type": "execute_result"
    }
   ],
   "source": [
    "num = 1\n",
    "type(num)"
   ]
  },
  {
   "cell_type": "code",
   "execution_count": 26,
   "id": "fbbd6d48",
   "metadata": {},
   "outputs": [
    {
     "data": {
      "text/plain": [
       "str"
      ]
     },
     "execution_count": 26,
     "metadata": {},
     "output_type": "execute_result"
    }
   ],
   "source": [
    "num = \"dd\"\n",
    "type(num)"
   ]
  },
  {
   "cell_type": "code",
   "execution_count": null,
   "id": "3e15d769",
   "metadata": {},
   "outputs": [],
   "source": []
  },
  {
   "cell_type": "markdown",
   "id": "8092803a",
   "metadata": {},
   "source": [
    "# 리스트\n",
    "- remove, insert, pop, append, coutn, len, reverse, sort, index, 인덱싱, 슬라이싱....\n",
    "- 라이브러리에서 주로 사용하는 함수\n",
    "- 1순위 - 인덱싱, 슬라이싱\n",
    "- 2순위 - append, remove"
   ]
  },
  {
   "cell_type": "code",
   "execution_count": 45,
   "id": "390c2db6",
   "metadata": {},
   "outputs": [],
   "source": [
    "# 1~ 50까지가 담긴 리스트 생성하기\n",
    "list1 = []\n",
    "for i in range(1,51) :\n",
    "    list1.append(i)"
   ]
  },
  {
   "cell_type": "code",
   "execution_count": 46,
   "id": "41a002dd",
   "metadata": {},
   "outputs": [
    {
     "name": "stdout",
     "output_type": "stream",
     "text": [
      "[1, 2, 3, 4, 5, 6, 7, 8, 9, 10, 11, 12, 13, 14, 15, 16, 17, 18, 19, 20, 21, 22, 23, 24, 25, 26, 27, 28, 29, 30, 31, 32, 33, 34, 35, 36, 37, 38, 39, 40, 41, 42, 43, 44, 45, 46, 47, 48, 49, 50]\n"
     ]
    }
   ],
   "source": [
    "print(list1)"
   ]
  },
  {
   "cell_type": "code",
   "execution_count": 55,
   "id": "70be24f8",
   "metadata": {},
   "outputs": [
    {
     "name": "stdout",
     "output_type": "stream",
     "text": [
      "10\n",
      "[15, 16, 17, 18, 19, 20, 21, 22, 23, 24, 25]\n"
     ]
    }
   ],
   "source": [
    "#인덱싱, 슬라이싱\n",
    "#대괄호를 사용한다.\n",
    "#10출력하기\n",
    "print(list1[9])\n",
    "#15~25출력하기\n",
    "print(list1[14: 25])\n"
   ]
  },
  {
   "cell_type": "code",
   "execution_count": null,
   "id": "4ce76c03",
   "metadata": {},
   "outputs": [],
   "source": [
    "#print : 원하는 위치에서 출력 가능 ->> 실행\n",
    "#변수명으로 출력 : 마지막 위치에서만 출력 가능 ->> 출력"
   ]
  },
  {
   "cell_type": "code",
   "execution_count": 62,
   "id": "0e2fe4aa",
   "metadata": {},
   "outputs": [
    {
     "name": "stdout",
     "output_type": "stream",
     "text": [
      "asdf\n",
      "asdf\n"
     ]
    }
   ],
   "source": [
    "# \\n : 개행\n",
    "str1 = \"asdf\\nasdf\" \n",
    "str1 #출력\n",
    "# print(str1) #실행(실행이기 때문에 개행이 실행된다.)"
   ]
  },
  {
   "cell_type": "markdown",
   "id": "e720942c",
   "metadata": {},
   "source": [
    "# 딕셔너리\n",
    "- key, value로 이루어져 있다.\n",
    "- 엑셀데이터로도 사용이 가능하다."
   ]
  },
  {
   "cell_type": "code",
   "execution_count": 75,
   "id": "01207889",
   "metadata": {},
   "outputs": [
    {
     "name": "stdout",
     "output_type": "stream",
     "text": [
      "{'name': ['국인', '동윤', '승호', '건하', '승훈'], 'age': [29, 29, 27, 26, 25]}\n"
     ]
    }
   ],
   "source": [
    "#dic_team 변수명을 사용해서 딕셔너리 만들기.\n",
    "#이름, 나이 key값 사용\n",
    "#팀원들의 정보 value 넣기.\n",
    "dic_team = {\"name\" : [\"국인\",\"동윤\",\"승호\",\"건하\",\"승훈\"], \"age\" : [29,29,27,26,25]}\n",
    "print(dic_team)\n"
   ]
  },
  {
   "cell_type": "code",
   "execution_count": 77,
   "id": "6f656192",
   "metadata": {},
   "outputs": [],
   "source": [
    "#딕셔너리 엑셀로 추출\n",
    "import pandas as pd\n",
    "test_pd = pd.DataFrame(dic_team)"
   ]
  },
  {
   "cell_type": "code",
   "execution_count": 79,
   "id": "549f1e7a",
   "metadata": {},
   "outputs": [],
   "source": [
    "test_pd.to_csv(\"asdf.csv\",encoding = 'cp949')"
   ]
  },
  {
   "cell_type": "code",
   "execution_count": null,
   "id": "96731c30",
   "metadata": {},
   "outputs": [],
   "source": []
  },
  {
   "cell_type": "code",
   "execution_count": null,
   "id": "6e48492f",
   "metadata": {},
   "outputs": [],
   "source": []
  },
  {
   "cell_type": "code",
   "execution_count": null,
   "id": "f9601be5",
   "metadata": {},
   "outputs": [],
   "source": []
  },
  {
   "cell_type": "code",
   "execution_count": null,
   "id": "30724fde",
   "metadata": {},
   "outputs": [],
   "source": []
  }
 ],
 "metadata": {
  "kernelspec": {
   "display_name": "Python 3 (ipykernel)",
   "language": "python",
   "name": "python3"
  },
  "language_info": {
   "codemirror_mode": {
    "name": "ipython",
    "version": 3
   },
   "file_extension": ".py",
   "mimetype": "text/x-python",
   "name": "python",
   "nbconvert_exporter": "python",
   "pygments_lexer": "ipython3",
   "version": "3.9.7"
  }
 },
 "nbformat": 4,
 "nbformat_minor": 5
}
