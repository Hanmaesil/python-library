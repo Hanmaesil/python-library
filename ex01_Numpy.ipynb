{
 "cells": [
  {
   "cell_type": "markdown",
   "id": "57870eaa",
   "metadata": {},
   "source": [
    "# 모듈(라이브러리)\n",
    "- 확장자가 .py인 파일\n",
    "- 변수나 함수 또는 클래스를 모아놓은 파일\n",
    "- 파이썬 프로그램에서 불러와 사용할 수 있게끔 만들어진 파이썬 파일이라고도 한다.\n",
    "- Numpy :  고성능 과학계산(고차원 데이터 사용)을 위한 데이터 분석 라이브러리\n",
    "- Pandas : 행과 열로 구성된 표 형식의 데이터(1,2차원데이터)를 지원하는 라이브러리\n",
    "- Matplotlib : 2D그래프로 시각화가 가능한 라이브러리"
   ]
  },
  {
   "cell_type": "markdown",
   "id": "1ef67204",
   "metadata": {},
   "source": [
    "# Numpy\n",
    "- 빠르고 효율적인 벡터 산술연산을 제공하는 다차원 배열 제공(ndarray 클래스)\n",
    "- 반복문 없이 전체 데이터 배열 연산이 가능한 표준 수학함수(sum(), sqrt(), mean())\n",
    "- 선형대수, 난수 생성, 푸리에 변환"
   ]
  },
  {
   "cell_type": "code",
   "execution_count": 1,
   "id": "41f8fcad",
   "metadata": {},
   "outputs": [],
   "source": [
    "#모듈(라이브러리) 사용하기\n",
    "import numpy as np"
   ]
  },
  {
   "cell_type": "markdown",
   "id": "9cfb4c73",
   "metadata": {},
   "source": [
    "### numpy.ndarray 클래스\n",
    "- 다차원의 데이터를 저장하는 기능\n",
    "- 동일한 자료형을 가지는 값들이 배열 형태로 존재함\n",
    "- n 차원 형태로 구성이 가능하다\n",
    "- 각 값들은 양의 정수로 색인(index)이 부여되어 있다.\n",
    "- ndarray를 줄여서 array로 표현한다."
   ]
  },
  {
   "cell_type": "code",
   "execution_count": 4,
   "id": "cadaf411",
   "metadata": {},
   "outputs": [
    {
     "data": {
      "text/plain": [
       "array([1, 2, 3, 4, 5])"
      ]
     },
     "execution_count": 4,
     "metadata": {},
     "output_type": "execute_result"
    }
   ],
   "source": [
    "#생성하기(1)\n",
    "#1. 리스트를 먼저 만들어 놓은 후\n",
    "list1 = [1,2,3,4,5]\n",
    "list\n",
    "#2. 리스트를 담는다.\n",
    "arr = np.array(list1)\n",
    "arr"
   ]
  },
  {
   "cell_type": "code",
   "execution_count": 5,
   "id": "ab3ed89d",
   "metadata": {},
   "outputs": [
    {
     "data": {
      "text/plain": [
       "array([1, 2, 3, 4, 5])"
      ]
     },
     "execution_count": 5,
     "metadata": {},
     "output_type": "execute_result"
    }
   ],
   "source": [
    "#생성하기(2)\n",
    "#만듦과 동시에 값을 부여한다.\n",
    "arr1 = np.array([1,2,3,4,5])\n",
    "arr1"
   ]
  },
  {
   "cell_type": "code",
   "execution_count": null,
   "id": "cf69e18a",
   "metadata": {},
   "outputs": [],
   "source": [
    "#리스트\n",
    "#[1,2,3], [4,5,6] 각 요소의 값을 더한다."
   ]
  },
  {
   "cell_type": "code",
   "execution_count": 21,
   "id": "5bcb0f56",
   "metadata": {},
   "outputs": [
    {
     "data": {
      "text/plain": [
       "[5, 7, 9]"
      ]
     },
     "execution_count": 21,
     "metadata": {},
     "output_type": "execute_result"
    }
   ],
   "source": [
    "#리스트 활용\n",
    "list1 = [1,2,3]\n",
    "list2 = [4,5,6]\n",
    "list3 = []\n",
    "for i in range(0,3,1) :\n",
    "    list3.append(list1[i] + list2[i])\n",
    "list3"
   ]
  },
  {
   "cell_type": "code",
   "execution_count": 24,
   "id": "afea47d9",
   "metadata": {},
   "outputs": [
    {
     "name": "stdout",
     "output_type": "stream",
     "text": [
      "[5 7 9]\n",
      "[ 4 10 18]\n"
     ]
    }
   ],
   "source": [
    "#array 활용\n",
    "#연산을 진행하면 각 요소끼리 연산을 진행\n",
    "arr1 = np.array(list1)\n",
    "arr2 = np.array(list2)\n",
    "print(arr1 + arr2)\n",
    "print(arr1 * arr2)"
   ]
  },
  {
   "cell_type": "code",
   "execution_count": 36,
   "id": "f9b56bca",
   "metadata": {},
   "outputs": [
    {
     "data": {
      "text/plain": [
       "array([[1, 2, 3],\n",
       "       [4, 5, 6]])"
      ]
     },
     "execution_count": 36,
     "metadata": {},
     "output_type": "execute_result"
    }
   ],
   "source": [
    "#2차원 array 생성하기\n",
    "arr2 = np.array([[1,2,3,], [4,5,6]]) #1차원 요소의 숫자를 동일하게 해야한다 - > 안그러면 크기나 전체요소 개수 확인이 안된다.\n",
    "arr2"
   ]
  },
  {
   "cell_type": "code",
   "execution_count": 37,
   "id": "db584166",
   "metadata": {},
   "outputs": [
    {
     "data": {
      "text/plain": [
       "(2, 3)"
      ]
     },
     "execution_count": 37,
     "metadata": {},
     "output_type": "execute_result"
    }
   ],
   "source": [
    "#array의 크기 확인하기\n",
    "#shape\n",
    "arr2.shape # 1차원은 3개씩 있고 2차원은 2개씩 있다"
   ]
  },
  {
   "cell_type": "code",
   "execution_count": 38,
   "id": "82f73c94",
   "metadata": {},
   "outputs": [
    {
     "data": {
      "text/plain": [
       "6"
      ]
     },
     "execution_count": 38,
     "metadata": {},
     "output_type": "execute_result"
    }
   ],
   "source": [
    "#array의 전체 요소 개수 확인하기\n",
    "#size\n",
    "arr2.size"
   ]
  },
  {
   "cell_type": "code",
   "execution_count": 39,
   "id": "1ec24549",
   "metadata": {},
   "outputs": [
    {
     "data": {
      "text/plain": [
       "dtype('int32')"
      ]
     },
     "execution_count": 39,
     "metadata": {},
     "output_type": "execute_result"
    }
   ],
   "source": [
    "#array의 타입 확인하기\n",
    "#dtype\n",
    "arr2.dtype"
   ]
  },
  {
   "cell_type": "code",
   "execution_count": 40,
   "id": "cad4531a",
   "metadata": {},
   "outputs": [
    {
     "data": {
      "text/plain": [
       "2"
      ]
     },
     "execution_count": 40,
     "metadata": {},
     "output_type": "execute_result"
    }
   ],
   "source": [
    "#array의 차원확인하기\n",
    "#ndim\n",
    "arr2.ndim"
   ]
  },
  {
   "cell_type": "code",
   "execution_count": 59,
   "id": "71ba921f",
   "metadata": {},
   "outputs": [
    {
     "name": "stdout",
     "output_type": "stream",
     "text": [
      "배열의 크기 : (2, 2, 2)\n",
      "배열의 차원 : 3\n",
      "배열의 전체 요소개수 : 8\n",
      "배열의 크기 :  (2, 2, 2)\n",
      "배열의 차원 :  3\n",
      "배열의 전체 요소개수 :  8\n"
     ]
    },
    {
     "data": {
      "text/plain": [
       "numpy.ndarray"
      ]
     },
     "execution_count": 59,
     "metadata": {},
     "output_type": "execute_result"
    }
   ],
   "source": [
    "#3차원의 array만들고 배열의 크기, 차원, 전체 요소개수 확인\n",
    "arr3 = np.array( [ [ [1,2], [3,4] ], [[5,6], [7,8] ] ])\n",
    "arr3\n",
    "print(f\"배열의 크기 : {arr3.shape}\")\n",
    "print(f\"배열의 차원 : {arr3.ndim}\")\n",
    "print(f\"배열의 전체 요소개수 : {arr3.size}\")\n",
    "print(\"배열의 크기 : \", arr3.shape)\n",
    "print(\"배열의 차원 : \", arr3.ndim)\n",
    "print(\"배열의 전체 요소개수 : \",arr3.size)"
   ]
  },
  {
   "cell_type": "markdown",
   "id": "fb6003dc",
   "metadata": {},
   "source": [
    "### 배열 생성하기"
   ]
  },
  {
   "cell_type": "code",
   "execution_count": 71,
   "id": "c868a707",
   "metadata": {},
   "outputs": [
    {
     "name": "stdout",
     "output_type": "stream",
     "text": [
      "[[0. 0. 0. 0.]\n",
      " [0. 0. 0. 0.]\n",
      " [0. 0. 0. 0.]]\n",
      "[[1. 1. 1. 1.]\n",
      " [1. 1. 1. 1.]\n",
      " [1. 1. 1. 1.]]\n"
     ]
    },
    {
     "data": {
      "text/plain": [
       "array([[5, 5, 5, 5],\n",
       "       [5, 5, 5, 5],\n",
       "       [5, 5, 5, 5]])"
      ]
     },
     "execution_count": 71,
     "metadata": {},
     "output_type": "execute_result"
    }
   ],
   "source": [
    "#배열 생성하기\n",
    "# 1. 0값으로 생성하기\n",
    "# zeros(배열의 크기)\n",
    "print(np.zeros((3,4)))\n",
    "# 2. 1값으로 생성하기\n",
    "#ones(배열의 크기)\n",
    "print(np.ones((3,4)))\n",
    "# 3. 지정해서 생성하기\n",
    "# full(배열의 크기, 채워넣을 값)\n",
    "np.full((3,4),5)"
   ]
  },
  {
   "cell_type": "code",
   "execution_count": 77,
   "id": "7037bcb2",
   "metadata": {},
   "outputs": [
    {
     "data": {
      "text/plain": [
       "array([ 1, 11, 21, 31, 41])"
      ]
     },
     "execution_count": 77,
     "metadata": {},
     "output_type": "execute_result"
    }
   ],
   "source": [
    "# 4. 연속되는 숫자로 배열 생성하기\n",
    "#arange(시작하는 수, 끝나는 수+1, 간격이 되는 수)\n",
    "#시작하는 수의 기본값은 0, 간격이 되는 수의 기본값은 1\n",
    "np.arange(1,51,10)"
   ]
  },
  {
   "cell_type": "code",
   "execution_count": null,
   "id": "e1c53b17",
   "metadata": {},
   "outputs": [],
   "source": []
  }
 ],
 "metadata": {
  "kernelspec": {
   "display_name": "Python 3 (ipykernel)",
   "language": "python",
   "name": "python3"
  },
  "language_info": {
   "codemirror_mode": {
    "name": "ipython",
    "version": 3
   },
   "file_extension": ".py",
   "mimetype": "text/x-python",
   "name": "python",
   "nbconvert_exporter": "python",
   "pygments_lexer": "ipython3",
   "version": "3.9.7"
  }
 },
 "nbformat": 4,
 "nbformat_minor": 5
}
